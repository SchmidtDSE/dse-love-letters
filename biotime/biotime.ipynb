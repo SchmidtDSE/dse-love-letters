{
 "cells": [
  {
   "cell_type": "markdown",
   "id": "8c72691a-a3a4-44b7-80d1-ad0825fb875a",
   "metadata": {},
   "source": [
    "### <font color='grey' style='font-family:Georgia'>_Data Love Letter_</font>\n",
    "# <font color='green' style='font-family:Georgia'>BioTIME Database</font>\n",
    "\n",
    "\n",
    "> To: _DSE_<br> From: _Giulia Zarpellon_<br> Date: _April 2023_"
   ]
  },
  {
   "cell_type": "markdown",
   "id": "5e46c296-bf13-40ab-b9c3-d1f96593d6e5",
   "metadata": {},
   "source": [
    "Full citation for the data we are exploring:\n",
    "\n",
    "> Dornelas M, Antão LH, Moyes F, Bates, AE, Magurran, AE, et al. BioTIME: A database of biodiversity time series for the Anthropocene. Global Ecol Biogeogr. 2018; 27:760 - 786. https://doi.org/10.1111/geb.12729"
   ]
  },
  {
   "cell_type": "markdown",
   "id": "1aea7f05-7782-4534-bb73-e6b6d49b7f66",
   "metadata": {},
   "source": [
    "## <font color='grey' style='font-family:Georgia'>Preliminary</font>"
   ]
  },
  {
   "cell_type": "markdown",
   "id": "cfdc02c0-4f04-4ea6-aa53-2b588c998b53",
   "metadata": {},
   "source": [
    "### 1. Why did you choose to explore this dataset among many others?"
   ]
  },
  {
   "cell_type": "markdown",
   "id": "3d215b66-29f3-4b90-9533-da5f051d7bbe",
   "metadata": {},
   "source": [
    "- [BioTIME](https://biotime.st-andrews.ac.uk/) is a _\"global database of assemblage time series for quantifying and understanding biodiversity change\"_. Indeed, it claims to be _\"the largest compilation of biodiversity time series containing raw data on species identities and abundances from ecological assemblages\"_ ([see here](https://biotime.st-andrews.ac.uk/downloads/interactBioTIME.html#using-the-mysql-database)).\n",
    "- Unlike the [LPI database](https://www.livingplanetindex.org/), this one does not seem to be linked to a particular indicator/index. The database seems to be cited by the community, but I'm not sure of _how_ it's actually been used by scientists (and maybe policy-makers?). The intention behind this exploration is to uncover some of the opportunities this data offers. Because we just explored the LPI data, and both should technically be compilations of \"abundance\" data<sup>(*)</sup>, we might be able to offer some comparison as well.\n",
    "\n",
    "<sup>(*)</sup> _This we should check, though!_"
   ]
  },
  {
   "cell_type": "markdown",
   "id": "31331bee-5601-44eb-8f19-9c08734c095a",
   "metadata": {},
   "source": [
    "### 2. Where did you find this data?"
   ]
  },
  {
   "cell_type": "markdown",
   "id": "97055e50-8691-4bb2-8ce2-8e8390fa5e09",
   "metadata": {},
   "source": [
    "- BioTIME is proudly open-access and free to anyone anywhere (🎉 yay!). [Data usage guidelines](https://biotime.st-andrews.ac.uk/usageGuidelines.php) require respecting the licenses associated to the datasets for each study included in the database, which can vary across the database but should generally be on the open side (Creative Commons and Open Licences, as discussed [here](https://biotime.st-andrews.ac.uk/usageGuidelines.php)). If using particular studies from this data, we should consult their individual licenses carefully. \n",
    "- Data can be access through a custom search or in its entirety. Additional files in `.csv` and `.xlsx` contain metadata and citation information. Two main formats are available: \n",
    "    1. **Full database SQL zip file** (1.01 GB unzipped). This `.sql` file is meant to be loaded into a MySQL database. \n",
    "    2. **Raw data in `.csv` zip file** (1.22 GB unzipped), a table that should summarize the database (see more on this and the database structure below). "
   ]
  },
  {
   "cell_type": "markdown",
   "id": "85087819-a4cc-40e0-a880-c73157d21186",
   "metadata": {},
   "source": [
    "### 3. Who is behind the data?"
   ]
  },
  {
   "cell_type": "markdown",
   "id": "ed739bcb-670c-4ac7-ad09-a8bec5c00a02",
   "metadata": {},
   "source": [
    "- As mentioned under \"Funding\"\n",
    "> BioTIME is hosted and based at the University of St Andrews. It grew out of two ERC grants (AdG BioTIME 250189 and PoC BioCHANGE 72744) awarded to Professor Anne Magurran. \n",
    "- Their [Team webpage](https://biotime.st-andrews.ac.uk/biotimeTeam.php) currently features an all-female core team (!) and explains  the composition of the BioTIME consortium:\n",
    "> The wider BioTIME consortium comprises many of the data contributors to the database along with enthusiastic University of St Andrews students and staff who assisted with data collection and cleaning. There are 265 BioTIME consortium members based at institutions spanning 35 countries around the globe. \n",
    "- While I cannot seem to find a list of Consortium associates, the database contains a `contacts` table with details of who is behind each study, which I believe should correspond to folks who actually contributed data. Data contributors where invited to be co-authors of the [BioTIME data paper](https://onlinelibrary.wiley.com/doi/full/10.1111/geb.12729). There seems to be a positive emphasis on giving credit to data collectors, which reflects on the data use agreement. \n",
    "- Submission of contributions is managed via a quite extensive `xlsx` form (link available [here](https://biotime.st-andrews.ac.uk/contribute.php)). In the database, there's also a `curation` table which provide space for further annotations, e.g., the date of when the study was added to the database -- a thing we could not know in the LPI data. Similarly to the LPI data, though, at first glance it looks like the data is sourced from scientific literature only."
   ]
  },
  {
   "cell_type": "markdown",
   "id": "83ce6789-4e41-4d3e-b0c7-f8e06f2d6eb9",
   "metadata": {},
   "source": [
    "### 4. Is the dataset static or living?"
   ]
  },
  {
   "cell_type": "markdown",
   "id": "7b2472ad-f876-4a4b-b847-62113afdaad7",
   "metadata": {},
   "source": [
    "- The database should be constantly updated with new entries, and I'll check below on the `curation.DATE_STUDY_ADDED` field to understand how often this happens. In contrast to the LPI data, there are no \"official releases\" or versions, but additions should be easily tracked using the `curation` table. We have no way of telling whether data is ever removed once contributed. \n",
    "- The version used here was downloaded in April 2023."
   ]
  },
  {
   "cell_type": "markdown",
   "id": "3f7411c4-e408-434e-8e02-eb17b97ccf5c",
   "metadata": {},
   "source": [
    "## <font color='grey' style='font-family:Georgia'>First impressions</font>"
   ]
  },
  {
   "cell_type": "code",
   "execution_count": null,
   "id": "e5c51100-4702-4e54-9609-56ee1b0bc8e1",
   "metadata": {},
   "outputs": [],
   "source": []
  },
  {
   "cell_type": "code",
   "execution_count": null,
   "id": "e895c90e-e1c4-46a9-ba4e-7294c1be4ea5",
   "metadata": {},
   "outputs": [],
   "source": []
  },
  {
   "cell_type": "code",
   "execution_count": null,
   "id": "4238c7cf-c96e-4210-8d93-5329adcfc1a4",
   "metadata": {},
   "outputs": [],
   "source": []
  },
  {
   "cell_type": "code",
   "execution_count": null,
   "id": "69c8269d-934a-49ba-bfea-869449f7e53e",
   "metadata": {},
   "outputs": [],
   "source": []
  },
  {
   "cell_type": "code",
   "execution_count": null,
   "id": "0d1619cc-ecd8-46ab-a59e-502b0cc29543",
   "metadata": {},
   "outputs": [],
   "source": []
  },
  {
   "cell_type": "code",
   "execution_count": null,
   "id": "4299efe9-e340-4b8e-ab40-50730faacb17",
   "metadata": {},
   "outputs": [],
   "source": []
  },
  {
   "cell_type": "code",
   "execution_count": null,
   "id": "296a7f63-6543-4984-8b0c-cdd8552ac854",
   "metadata": {},
   "outputs": [],
   "source": []
  },
  {
   "cell_type": "code",
   "execution_count": null,
   "id": "edf6c895-d7d3-4b0b-bb60-a3722a8f3298",
   "metadata": {},
   "outputs": [],
   "source": []
  }
 ],
 "metadata": {
  "kernelspec": {
   "display_name": "ipy-lpi-env",
   "language": "python",
   "name": "ipy-lpi-env"
  },
  "language_info": {
   "codemirror_mode": {
    "name": "ipython",
    "version": 3
   },
   "file_extension": ".py",
   "mimetype": "text/x-python",
   "name": "python",
   "nbconvert_exporter": "python",
   "pygments_lexer": "ipython3",
   "version": "3.8.16"
  }
 },
 "nbformat": 4,
 "nbformat_minor": 5
}
